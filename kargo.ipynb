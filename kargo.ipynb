{
 "cells": [
  {
   "cell_type": "code",
   "execution_count": null,
   "id": "f4b00103",
   "metadata": {},
   "outputs": [],
   "source": [
    "pip install Mesa pandas matplotlib"
   ]
  },
  {
   "cell_type": "code",
   "execution_count": null,
   "id": "adbc3df1",
   "metadata": {},
   "outputs": [],
   "source": [
    "#library yang digunakan\n",
    "from mesa import Agent, Model\n",
    "from mesa.time import StagedActivation\n",
    "import pandas as pd\n",
    "import matplotlib.pyplot as plt\n",
    "import os\n",
    "import re"
   ]
  },
  {
   "cell_type": "code",
   "execution_count": null,
   "id": "19e5303b",
   "metadata": {},
   "outputs": [],
   "source": [
    "#Koordinat\n",
    "def hapusKurung(kata):\n",
    "    kalimat = re.sub(r'[()]', '', kata)\n",
    "    return kalimat\n",
    "\n",
    "dir = os.getcwd()\n",
    "nf=\"kargo.xlsx\"\n",
    "fxcel = dir+\"\\Documents\\\\\"+nf\n",
    "namaSheet = \"cargo_sub\"\n",
    "s11 = 11\n",
    "s12 = 16\n",
    "s21 = 18\n",
    "s22 = 23\n",
    "intlCol = [\"D\",\"G\",\"J\"]\n",
    "domCol = [\"E\",\"H\",\"K\"]\n",
    "totCol = [\"F\", \"I\", \"L\"]\n",
    "intlGrow = \"R\"\n",
    "domGrow = \"S\"\n",
    "totGrow = \"T\"\n",
    "intls1Range = []\n",
    "doms1Range = []\n",
    "intls1GRange = []\n",
    "doms1GRange = []\n",
    "tots1GRange = []\n",
    "intls2GRange = []\n",
    "doms2GRange = []\n",
    "tots2GRange = []\n",
    "\n",
    "for a in intlCol:\n",
    "    s1 = f'{a}{s11}:{a}{s12}'\n",
    "    intls1Range.append(hapusKurung(s1))\n",
    "\n",
    "for b in domCol:\n",
    "    s2 = f'{b}{s21}:{b}{s22}'\n",
    "    doms1Range.append(hapusKurung(s2))\n",
    "\n",
    "print(f\"{intls1Range}\\n{doms1Range}\\n\")\n",
    "\n",
    "for _ in range(6):\n",
    "    s11ig = f'{intlGrow}:{s11}'\n",
    "    s12ig = f'{intlGrow}:{s12}'\n",
    "    s11dg = f'{domGrow}:{s11}'\n",
    "    s12dg = f'{domGrow}:{s12}'\n",
    "    s11tg = f'{totGrow}:{s11}'\n",
    "    s12tg = f'{totGrow}:{s12}'\n",
    "\n",
    "    s21ig = f'{intlGrow}:{s21}'\n",
    "    s22ig = f'{intlGrow}:{s22}'\n",
    "    s21dg = f'{domGrow}:{s21}'\n",
    "    s22dg = f'{domGrow}:{s22}'\n",
    "    s21tg = f'{totGrow}:{s21}'\n",
    "    s22tg = f'{totGrow}:{s22}'\n",
    "\n",
    "    s11 += 1\n",
    "    s12 += 1\n",
    "    \n",
    "    intls1GRange.append(s11ig)\n",
    "    intls1GRange.append(s12ig)\n",
    "    doms1GRange.append(s11dg)\n",
    "    doms1GRange.append(s12dg)\n",
    "    tots1GRange.append(s11tg)\n",
    "    tots1GRange.append(s12tg)\n",
    "    \n",
    "    intls2GRange.append(s21ig)\n",
    "    intls2GRange.append(s22ig)\n",
    "    doms2GRange.append(s21dg)\n",
    "    doms2GRange.append(s22dg)\n",
    "    tots2GRange.append(s21tg)\n",
    "    tots2GRange.append(s22tg)\n",
    "\n",
    "print(f\"{intls1GRange}\\n{doms1GRange}\\n{tots1GRange}\\n\\n{intls2GRange}\\n{doms2GRange}\\n{tots2GRange}\")"
   ]
  },
  {
   "cell_type": "code",
   "execution_count": null,
   "id": "dc4d9058",
   "metadata": {},
   "outputs": [],
   "source": []
  }
 ],
 "metadata": {
  "kernelspec": {
   "display_name": "Python 3 (ipykernel)",
   "language": "python",
   "name": "python3"
  },
  "language_info": {
   "codemirror_mode": {
    "name": "ipython",
    "version": 3
   },
   "file_extension": ".py",
   "mimetype": "text/x-python",
   "name": "python",
   "nbconvert_exporter": "python",
   "pygments_lexer": "ipython3",
   "version": "3.11.5"
  }
 },
 "nbformat": 4,
 "nbformat_minor": 5
}
